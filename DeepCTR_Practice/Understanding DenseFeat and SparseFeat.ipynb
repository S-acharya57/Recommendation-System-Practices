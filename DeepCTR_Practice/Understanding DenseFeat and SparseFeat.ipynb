{
 "cells": [
  {
   "cell_type": "code",
   "execution_count": 4,
   "id": "69347b49",
   "metadata": {},
   "outputs": [],
   "source": [
    "import pandas as pd\n",
    "import deepctr"
   ]
  },
  {
   "cell_type": "code",
   "execution_count": 5,
   "id": "287916dd",
   "metadata": {},
   "outputs": [],
   "source": [
    "from deepctr.feature_column import SparseFeat, DenseFeat, get_feature_names\n",
    "from deepctr.models import * \n",
    "from sklearn.preprocessing import LabelEncoder\n",
    "from sklearn.model_selection import train_test_split"
   ]
  },
  {
   "cell_type": "code",
   "execution_count": 6,
   "id": "dff39ae5",
   "metadata": {},
   "outputs": [
    {
     "data": {
      "text/html": [
       "<div>\n",
       "<style scoped>\n",
       "    .dataframe tbody tr th:only-of-type {\n",
       "        vertical-align: middle;\n",
       "    }\n",
       "\n",
       "    .dataframe tbody tr th {\n",
       "        vertical-align: top;\n",
       "    }\n",
       "\n",
       "    .dataframe thead th {\n",
       "        text-align: right;\n",
       "    }\n",
       "</style>\n",
       "<table border=\"1\" class=\"dataframe\">\n",
       "  <thead>\n",
       "    <tr style=\"text-align: right;\">\n",
       "      <th></th>\n",
       "      <th>user_id</th>\n",
       "      <th>item_id</th>\n",
       "      <th>gender</th>\n",
       "      <th>age</th>\n",
       "      <th>rating</th>\n",
       "    </tr>\n",
       "  </thead>\n",
       "  <tbody>\n",
       "    <tr>\n",
       "      <th>0</th>\n",
       "      <td>1</td>\n",
       "      <td>1</td>\n",
       "      <td>male</td>\n",
       "      <td>23</td>\n",
       "      <td>5</td>\n",
       "    </tr>\n",
       "    <tr>\n",
       "      <th>1</th>\n",
       "      <td>2</td>\n",
       "      <td>2</td>\n",
       "      <td>female</td>\n",
       "      <td>45</td>\n",
       "      <td>4</td>\n",
       "    </tr>\n",
       "  </tbody>\n",
       "</table>\n",
       "</div>"
      ],
      "text/plain": [
       "   user_id  item_id  gender  age  rating\n",
       "0        1        1    male   23       5\n",
       "1        2        2  female   45       4"
      ]
     },
     "execution_count": 6,
     "metadata": {},
     "output_type": "execute_result"
    }
   ],
   "source": [
    "# Sample data\n",
    "data = {\n",
    "    'user_id': [1, 2, 3, 4, 5],\n",
    "    'item_id': [1, 2, 3, 4, 5],\n",
    "    'gender': ['male', 'female', 'female', 'male', 'male'],\n",
    "    'age': [23, 45, 35, 23, 30],\n",
    "    'rating': [5, 4, 3, 2, 1]\n",
    "}\n",
    "\n",
    "df = pd.DataFrame(data)\n",
    "df.head(2)"
   ]
  },
  {
   "cell_type": "code",
   "execution_count": 7,
   "id": "39bcb3f6",
   "metadata": {},
   "outputs": [],
   "source": [
    "sparse_features = ['user_id', 'item_id', 'gender']\n",
    "dense_features = ['age']"
   ]
  },
  {
   "cell_type": "code",
   "execution_count": 8,
   "id": "1495fb0e",
   "metadata": {},
   "outputs": [
    {
     "name": "stdout",
     "output_type": "stream",
     "text": [
      "WARNING:tensorflow:From C:\\Users\\OMEN\\anaconda3\\envs\\deepctr\\lib\\site-packages\\tensorflow\\python\\keras\\initializers.py:143: calling RandomNormal.__init__ (from tensorflow.python.ops.init_ops) with dtype is deprecated and will be removed in a future version.\n",
      "Instructions for updating:\n",
      "Call initializer instance with the dtype argument instead of passing it to the constructor\n"
     ]
    },
    {
     "data": {
      "text/plain": [
       "SparseFeat(name='user_id', vocabulary_size=5, embedding_dim=4, use_hash=False, vocabulary_path=None, dtype='int32', embeddings_initializer=<tensorflow.python.keras.initializers.RandomNormal object at 0x000002ABA1350D88>, embedding_name='user_id', group_name='default_group', trainable=True)"
      ]
     },
     "execution_count": 8,
     "metadata": {},
     "output_type": "execute_result"
    }
   ],
   "source": [
    "fixlen_feature_columns = [\n",
    "    deepctr.feature_column.SparseFeat(name, vocabulary_size=df[name].nunique(), embedding_dim=4) for name in sparse_features\n",
    "] + [deepctr.feature_column.DenseFeat(name, 1) for name in dense_features]\n",
    "\n",
    "fixlen_feature_columns[0]"
   ]
  },
  {
   "cell_type": "code",
   "execution_count": 9,
   "id": "e9155f27",
   "metadata": {},
   "outputs": [
    {
     "data": {
      "text/plain": [
       "['user_id', 'item_id', 'gender', 'age']"
      ]
     },
     "execution_count": 9,
     "metadata": {},
     "output_type": "execute_result"
    }
   ],
   "source": [
    "feature_names = get_feature_names(fixlen_feature_columns)\n",
    "feature_names "
   ]
  },
  {
   "cell_type": "code",
   "execution_count": 10,
   "id": "dc27ce40",
   "metadata": {},
   "outputs": [
    {
     "name": "stdout",
     "output_type": "stream",
     "text": [
      "SparseFeat - Name: user_id, Vocabulary Size: 5, Embedding Dimension: 4\n",
      "SparseFeat - Name: item_id, Vocabulary Size: 5, Embedding Dimension: 4\n",
      "SparseFeat - Name: gender, Vocabulary Size: 2, Embedding Dimension: 4\n",
      "DenseFeat - Name: age, Dimension: 1\n"
     ]
    }
   ],
   "source": [
    "def print_feature_columns(feature_columns):\n",
    "    for col in feature_columns:\n",
    "        \n",
    "        if isinstance(col, SparseFeat):\n",
    "            print(f\"SparseFeat - Name: {col.name}, Vocabulary Size: {col.vocabulary_size}, Embedding Dimension: {col.embedding_dim}\")\n",
    "        elif isinstance(col, DenseFeat):\n",
    "            print(f\"DenseFeat - Name: {col.name}, Dimension: {col.dimension}\")\n",
    "print_feature_columns(fixlen_feature_columns)"
   ]
  },
  {
   "cell_type": "code",
   "execution_count": 11,
   "id": "fbcd0d91",
   "metadata": {},
   "outputs": [
    {
     "data": {
      "text/html": [
       "<div>\n",
       "<style scoped>\n",
       "    .dataframe tbody tr th:only-of-type {\n",
       "        vertical-align: middle;\n",
       "    }\n",
       "\n",
       "    .dataframe tbody tr th {\n",
       "        vertical-align: top;\n",
       "    }\n",
       "\n",
       "    .dataframe thead th {\n",
       "        text-align: right;\n",
       "    }\n",
       "</style>\n",
       "<table border=\"1\" class=\"dataframe\">\n",
       "  <thead>\n",
       "    <tr style=\"text-align: right;\">\n",
       "      <th></th>\n",
       "      <th>user_id</th>\n",
       "      <th>item_id</th>\n",
       "      <th>gender</th>\n",
       "      <th>age</th>\n",
       "      <th>rating</th>\n",
       "    </tr>\n",
       "  </thead>\n",
       "  <tbody>\n",
       "    <tr>\n",
       "      <th>0</th>\n",
       "      <td>0</td>\n",
       "      <td>0</td>\n",
       "      <td>1</td>\n",
       "      <td>23</td>\n",
       "      <td>5</td>\n",
       "    </tr>\n",
       "    <tr>\n",
       "      <th>1</th>\n",
       "      <td>1</td>\n",
       "      <td>1</td>\n",
       "      <td>0</td>\n",
       "      <td>45</td>\n",
       "      <td>4</td>\n",
       "    </tr>\n",
       "  </tbody>\n",
       "</table>\n",
       "</div>"
      ],
      "text/plain": [
       "   user_id  item_id  gender  age  rating\n",
       "0        0        0       1   23       5\n",
       "1        1        1       0   45       4"
      ]
     },
     "execution_count": 11,
     "metadata": {},
     "output_type": "execute_result"
    }
   ],
   "source": [
    "for feature in sparse_features:\n",
    "    lbe = LabelEncoder()\n",
    "    df[feature] = lbe.fit_transform(df[feature])\n",
    "df.head(2)"
   ]
  },
  {
   "cell_type": "code",
   "execution_count": 12,
   "id": "fcafbf77",
   "metadata": {},
   "outputs": [
    {
     "data": {
      "text/plain": [
       "{'user_id': 0    0\n",
       " 1    1\n",
       " 2    2\n",
       " 3    3\n",
       " 4    4\n",
       " Name: user_id, dtype: int64,\n",
       " 'item_id': 0    0\n",
       " 1    1\n",
       " 2    2\n",
       " 3    3\n",
       " 4    4\n",
       " Name: item_id, dtype: int64,\n",
       " 'gender': 0    1\n",
       " 1    0\n",
       " 2    0\n",
       " 3    1\n",
       " 4    1\n",
       " Name: gender, dtype: int32,\n",
       " 'age': 0    23\n",
       " 1    45\n",
       " 2    35\n",
       " 3    23\n",
       " 4    30\n",
       " Name: age, dtype: int64}"
      ]
     },
     "execution_count": 12,
     "metadata": {},
     "output_type": "execute_result"
    }
   ],
   "source": [
    "model_input = {name: df[name] for name in feature_names}\n",
    "model_input"
   ]
  },
  {
   "cell_type": "code",
   "execution_count": 13,
   "id": "94e0bd88",
   "metadata": {},
   "outputs": [
    {
     "data": {
      "text/plain": [
       "(   user_id  item_id  gender  age  rating\n",
       " 4        4        4       1   30       1\n",
       " 2        2        2       0   35       3\n",
       " 0        0        0       1   23       5\n",
       " 3        3        3       1   23       2,\n",
       "    user_id  item_id  gender  age  rating\n",
       " 1        1        1       0   45       4)"
      ]
     },
     "execution_count": 13,
     "metadata": {},
     "output_type": "execute_result"
    }
   ],
   "source": [
    "train, test = train_test_split(df, test_size=0.2, random_state=42)\n",
    "train, test"
   ]
  },
  {
   "cell_type": "code",
   "execution_count": 14,
   "id": "2c5c7bca",
   "metadata": {},
   "outputs": [
    {
     "data": {
      "text/plain": [
       "{'user_id': 1    1\n",
       " Name: user_id, dtype: int64,\n",
       " 'item_id': 1    1\n",
       " Name: item_id, dtype: int64,\n",
       " 'gender': 1    0\n",
       " Name: gender, dtype: int32,\n",
       " 'age': 1    45\n",
       " Name: age, dtype: int64}"
      ]
     },
     "execution_count": 14,
     "metadata": {},
     "output_type": "execute_result"
    }
   ],
   "source": [
    "train_model_input = {name: train[name] for name in feature_names}\n",
    "test_model_input = {name: test[name] for name in feature_names}\n",
    "test_model_input"
   ]
  },
  {
   "cell_type": "code",
   "execution_count": 15,
   "id": "b8a9c44b",
   "metadata": {
    "scrolled": true
   },
   "outputs": [
    {
     "data": {
      "text/plain": [
       "{'user_id': 4    4\n",
       " 2    2\n",
       " 0    0\n",
       " 3    3\n",
       " Name: user_id, dtype: int64,\n",
       " 'item_id': 4    4\n",
       " 2    2\n",
       " 0    0\n",
       " 3    3\n",
       " Name: item_id, dtype: int64,\n",
       " 'gender': 4    1\n",
       " 2    0\n",
       " 0    1\n",
       " 3    1\n",
       " Name: gender, dtype: int32,\n",
       " 'age': 4    30\n",
       " 2    35\n",
       " 0    23\n",
       " 3    23\n",
       " Name: age, dtype: int64}"
      ]
     },
     "execution_count": 15,
     "metadata": {},
     "output_type": "execute_result"
    }
   ],
   "source": [
    "train_model_input"
   ]
  },
  {
   "cell_type": "code",
   "execution_count": 17,
   "id": "9a456f82",
   "metadata": {
    "scrolled": false
   },
   "outputs": [
    {
     "name": "stdout",
     "output_type": "stream",
     "text": [
      "make sure the activation function use training flag properly call() got an unexpected keyword argument 'training'\n"
     ]
    },
    {
     "ename": "StagingError",
     "evalue": "in converted code:\n    relative to C:\\Users\\OMEN:\n\n    anaconda3\\envs\\deepctr\\lib\\site-packages\\deepctr\\layers\\core.py:193 call *\n        for i in range(len(self.hidden_units)):\n    anaconda3\\envs\\deepctr\\lib\\site-packages\\tensorflow\\python\\autograph\\operators\\control_flow.py:110 for_stmt\n        return _py_for_stmt(iter_, extra_test, body, init_state)\n    anaconda3\\envs\\deepctr\\lib\\site-packages\\tensorflow\\python\\autograph\\operators\\control_flow.py:119 _py_for_stmt\n        state = body(target, *state)\n    AppData\\Local\\Temp\\tmpqlk9v3_2.py:37 loop_body\n        return deep_input_1, e_1\n\n    UnboundLocalError: local variable 'e_1' referenced before assignment\n",
     "output_type": "error",
     "traceback": [
      "\u001b[1;31m---------------------------------------------------------------------------\u001b[0m",
      "\u001b[1;31mStagingError\u001b[0m                              Traceback (most recent call last)",
      "\u001b[1;32m~\\AppData\\Local\\Temp\\ipykernel_9104\\2227233639.py\u001b[0m in \u001b[0;36m<module>\u001b[1;34m\u001b[0m\n\u001b[0;32m      1\u001b[0m model = DeepFM(linear_feature_columns=fixlen_feature_columns,\n\u001b[0;32m      2\u001b[0m                \u001b[0mdnn_feature_columns\u001b[0m\u001b[1;33m=\u001b[0m\u001b[0mfixlen_feature_columns\u001b[0m\u001b[1;33m,\u001b[0m\u001b[1;33m\u001b[0m\u001b[1;33m\u001b[0m\u001b[0m\n\u001b[1;32m----> 3\u001b[1;33m                task='regression')\n\u001b[0m",
      "\u001b[1;32m~\\anaconda3\\envs\\deepctr\\lib\\site-packages\\deepctr\\models\\deepfm.py\u001b[0m in \u001b[0;36mDeepFM\u001b[1;34m(linear_feature_columns, dnn_feature_columns, fm_group, dnn_hidden_units, l2_reg_linear, l2_reg_embedding, l2_reg_dnn, seed, dnn_dropout, dnn_activation, dnn_use_bn, task)\u001b[0m\n\u001b[0;32m     56\u001b[0m     dnn_input = combined_dnn_input(list(chain.from_iterable(\n\u001b[0;32m     57\u001b[0m         group_embedding_dict.values())), dense_value_list)\n\u001b[1;32m---> 58\u001b[1;33m     \u001b[0mdnn_output\u001b[0m \u001b[1;33m=\u001b[0m \u001b[0mDNN\u001b[0m\u001b[1;33m(\u001b[0m\u001b[0mdnn_hidden_units\u001b[0m\u001b[1;33m,\u001b[0m \u001b[0mdnn_activation\u001b[0m\u001b[1;33m,\u001b[0m \u001b[0ml2_reg_dnn\u001b[0m\u001b[1;33m,\u001b[0m \u001b[0mdnn_dropout\u001b[0m\u001b[1;33m,\u001b[0m \u001b[0mdnn_use_bn\u001b[0m\u001b[1;33m,\u001b[0m \u001b[0mseed\u001b[0m\u001b[1;33m=\u001b[0m\u001b[0mseed\u001b[0m\u001b[1;33m)\u001b[0m\u001b[1;33m(\u001b[0m\u001b[0mdnn_input\u001b[0m\u001b[1;33m)\u001b[0m\u001b[1;33m\u001b[0m\u001b[1;33m\u001b[0m\u001b[0m\n\u001b[0m\u001b[0;32m     59\u001b[0m     \u001b[0mdnn_logit\u001b[0m \u001b[1;33m=\u001b[0m \u001b[0mDense\u001b[0m\u001b[1;33m(\u001b[0m\u001b[1;36m1\u001b[0m\u001b[1;33m,\u001b[0m \u001b[0muse_bias\u001b[0m\u001b[1;33m=\u001b[0m\u001b[1;32mFalse\u001b[0m\u001b[1;33m)\u001b[0m\u001b[1;33m(\u001b[0m\u001b[0mdnn_output\u001b[0m\u001b[1;33m)\u001b[0m\u001b[1;33m\u001b[0m\u001b[1;33m\u001b[0m\u001b[0m\n\u001b[0;32m     60\u001b[0m \u001b[1;33m\u001b[0m\u001b[0m\n",
      "\u001b[1;32m~\\anaconda3\\envs\\deepctr\\lib\\site-packages\\tensorflow\\python\\keras\\engine\\base_layer.py\u001b[0m in \u001b[0;36m__call__\u001b[1;34m(self, inputs, *args, **kwargs)\u001b[0m\n\u001b[0;32m    632\u001b[0m                     \u001b[0moutputs\u001b[0m \u001b[1;33m=\u001b[0m \u001b[0mbase_layer_utils\u001b[0m\u001b[1;33m.\u001b[0m\u001b[0mmark_as_return\u001b[0m\u001b[1;33m(\u001b[0m\u001b[0moutputs\u001b[0m\u001b[1;33m,\u001b[0m \u001b[0macd\u001b[0m\u001b[1;33m)\u001b[0m\u001b[1;33m\u001b[0m\u001b[1;33m\u001b[0m\u001b[0m\n\u001b[0;32m    633\u001b[0m                 \u001b[1;32melse\u001b[0m\u001b[1;33m:\u001b[0m\u001b[1;33m\u001b[0m\u001b[1;33m\u001b[0m\u001b[0m\n\u001b[1;32m--> 634\u001b[1;33m                   \u001b[0moutputs\u001b[0m \u001b[1;33m=\u001b[0m \u001b[0mcall_fn\u001b[0m\u001b[1;33m(\u001b[0m\u001b[0minputs\u001b[0m\u001b[1;33m,\u001b[0m \u001b[1;33m*\u001b[0m\u001b[0margs\u001b[0m\u001b[1;33m,\u001b[0m \u001b[1;33m**\u001b[0m\u001b[0mkwargs\u001b[0m\u001b[1;33m)\u001b[0m\u001b[1;33m\u001b[0m\u001b[1;33m\u001b[0m\u001b[0m\n\u001b[0m\u001b[0;32m    635\u001b[0m \u001b[1;33m\u001b[0m\u001b[0m\n\u001b[0;32m    636\u001b[0m             \u001b[1;32mexcept\u001b[0m \u001b[0mTypeError\u001b[0m \u001b[1;32mas\u001b[0m \u001b[0me\u001b[0m\u001b[1;33m:\u001b[0m\u001b[1;33m\u001b[0m\u001b[1;33m\u001b[0m\u001b[0m\n",
      "\u001b[1;32m~\\anaconda3\\envs\\deepctr\\lib\\site-packages\\tensorflow\\python\\autograph\\impl\\api.py\u001b[0m in \u001b[0;36mwrapper\u001b[1;34m(*args, **kwargs)\u001b[0m\n\u001b[0;32m    147\u001b[0m       \u001b[1;32mexcept\u001b[0m \u001b[0mException\u001b[0m \u001b[1;32mas\u001b[0m \u001b[0me\u001b[0m\u001b[1;33m:\u001b[0m  \u001b[1;31m# pylint:disable=broad-except\u001b[0m\u001b[1;33m\u001b[0m\u001b[1;33m\u001b[0m\u001b[0m\n\u001b[0;32m    148\u001b[0m         \u001b[1;32mif\u001b[0m \u001b[0mhasattr\u001b[0m\u001b[1;33m(\u001b[0m\u001b[0me\u001b[0m\u001b[1;33m,\u001b[0m \u001b[1;34m'ag_error_metadata'\u001b[0m\u001b[1;33m)\u001b[0m\u001b[1;33m:\u001b[0m\u001b[1;33m\u001b[0m\u001b[1;33m\u001b[0m\u001b[0m\n\u001b[1;32m--> 149\u001b[1;33m           \u001b[1;32mraise\u001b[0m \u001b[0me\u001b[0m\u001b[1;33m.\u001b[0m\u001b[0mag_error_metadata\u001b[0m\u001b[1;33m.\u001b[0m\u001b[0mto_exception\u001b[0m\u001b[1;33m(\u001b[0m\u001b[0mtype\u001b[0m\u001b[1;33m(\u001b[0m\u001b[0me\u001b[0m\u001b[1;33m)\u001b[0m\u001b[1;33m)\u001b[0m\u001b[1;33m\u001b[0m\u001b[1;33m\u001b[0m\u001b[0m\n\u001b[0m\u001b[0;32m    150\u001b[0m         \u001b[1;32melse\u001b[0m\u001b[1;33m:\u001b[0m\u001b[1;33m\u001b[0m\u001b[1;33m\u001b[0m\u001b[0m\n\u001b[0;32m    151\u001b[0m           \u001b[1;32mraise\u001b[0m\u001b[1;33m\u001b[0m\u001b[1;33m\u001b[0m\u001b[0m\n",
      "\u001b[1;31mStagingError\u001b[0m: in converted code:\n    relative to C:\\Users\\OMEN:\n\n    anaconda3\\envs\\deepctr\\lib\\site-packages\\deepctr\\layers\\core.py:193 call *\n        for i in range(len(self.hidden_units)):\n    anaconda3\\envs\\deepctr\\lib\\site-packages\\tensorflow\\python\\autograph\\operators\\control_flow.py:110 for_stmt\n        return _py_for_stmt(iter_, extra_test, body, init_state)\n    anaconda3\\envs\\deepctr\\lib\\site-packages\\tensorflow\\python\\autograph\\operators\\control_flow.py:119 _py_for_stmt\n        state = body(target, *state)\n    AppData\\Local\\Temp\\tmpqlk9v3_2.py:37 loop_body\n        return deep_input_1, e_1\n\n    UnboundLocalError: local variable 'e_1' referenced before assignment\n"
     ]
    }
   ],
   "source": [
    "model = DeepFM(linear_feature_columns=fixlen_feature_columns,\n",
    "               dnn_feature_columns=fixlen_feature_columns,\n",
    "               task='regression')"
   ]
  },
  {
   "cell_type": "code",
   "execution_count": null,
   "id": "57068f83",
   "metadata": {},
   "outputs": [],
   "source": []
  }
 ],
 "metadata": {
  "kernelspec": {
   "display_name": "Python 3 (ipykernel)",
   "language": "python",
   "name": "python3"
  },
  "language_info": {
   "codemirror_mode": {
    "name": "ipython",
    "version": 3
   },
   "file_extension": ".py",
   "mimetype": "text/x-python",
   "name": "python",
   "nbconvert_exporter": "python",
   "pygments_lexer": "ipython3",
   "version": "3.7.16"
  }
 },
 "nbformat": 4,
 "nbformat_minor": 5
}
