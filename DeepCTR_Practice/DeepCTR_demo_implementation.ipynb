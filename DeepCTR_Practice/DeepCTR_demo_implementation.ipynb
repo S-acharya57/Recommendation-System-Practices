{
  "nbformat": 4,
  "nbformat_minor": 0,
  "metadata": {
    "colab": {
      "provenance": []
    },
    "kernelspec": {
      "name": "python3",
      "display_name": "Python 3"
    },
    "language_info": {
      "name": "python"
    }
  },
  "cells": [
    {
      "cell_type": "code",
      "execution_count": 56,
      "metadata": {
        "colab": {
          "base_uri": "https://localhost:8080/"
        },
        "id": "4cgaTNFSsFA9",
        "outputId": "f60dbdba-f625-474e-cf0c-6e494605f348"
      },
      "outputs": [
        {
          "output_type": "stream",
          "name": "stdout",
          "text": [
            "--2024-05-28 06:05:44--  https://raw.githubusercontent.com/shenweichen/DeepMatch/master/examples/preprocess.py\n",
            "Resolving raw.githubusercontent.com (raw.githubusercontent.com)... 185.199.109.133, 185.199.108.133, 185.199.110.133, ...\n",
            "Connecting to raw.githubusercontent.com (raw.githubusercontent.com)|185.199.109.133|:443... connected.\n",
            "HTTP request sent, awaiting response... 200 OK\n",
            "Length: 6705 (6.5K) [text/plain]\n",
            "Saving to: ‘preprocess.py’\n",
            "\n",
            "\rpreprocess.py         0%[                    ]       0  --.-KB/s               \rpreprocess.py       100%[===================>]   6.55K  --.-KB/s    in 0s      \n",
            "\n",
            "2024-05-28 06:05:45 (62.0 MB/s) - ‘preprocess.py’ saved [6705/6705]\n",
            "\n",
            "\u001b[33mWARNING: Skipping tensorflow as it is not installed.\u001b[0m\u001b[33m\n",
            "\u001b[0m"
          ]
        }
      ],
      "source": [
        "! wget https://raw.githubusercontent.com/shenweichen/DeepMatch/master/examples/preprocess.py -O preprocess.py\n",
        "\n",
        "! pip uninstall -y -q tensorflow\n",
        "! pip install -q tensorflow-gpu==2.8.0\n",
        "! pip install -q deepmatch"
      ]
    },
    {
      "cell_type": "code",
      "source": [
        "import pandas as pd\n",
        "import deepctr\n",
        "from deepctr.feature_column import SparseFeat, DenseFeat, get_feature_names\n",
        "from deepctr.models import *\n",
        "\n",
        "from sklearn.preprocessing import LabelEncoder, MinMaxScaler\n",
        "from sklearn.feature_extraction import FeatureHasher\n",
        "from sklearn.model_selection import train_test_split"
      ],
      "metadata": {
        "id": "dKWsQGahsLVu"
      },
      "execution_count": 115,
      "outputs": []
    },
    {
      "cell_type": "code",
      "source": [
        "data = pd.read_csv('sample_text.txt')\n",
        "data.head(2), data.info()"
      ],
      "metadata": {
        "colab": {
          "base_uri": "https://localhost:8080/"
        },
        "id": "yUUSl5RBsXKq",
        "outputId": "6d06ca68-cccb-4d66-ce08-17845af80eba"
      },
      "execution_count": 116,
      "outputs": [
        {
          "output_type": "stream",
          "name": "stdout",
          "text": [
            "<class 'pandas.core.frame.DataFrame'>\n",
            "RangeIndex: 200 entries, 0 to 199\n",
            "Data columns (total 40 columns):\n",
            " #   Column  Non-Null Count  Dtype  \n",
            "---  ------  --------------  -----  \n",
            " 0   label   200 non-null    int64  \n",
            " 1   I1      110 non-null    float64\n",
            " 2   I2      200 non-null    int64  \n",
            " 3   I3      166 non-null    float64\n",
            " 4   I4      165 non-null    float64\n",
            " 5   I5      194 non-null    float64\n",
            " 6   I6      149 non-null    float64\n",
            " 7   I7      190 non-null    float64\n",
            " 8   I8      200 non-null    float64\n",
            " 9   I9      190 non-null    float64\n",
            " 10  I10     110 non-null    float64\n",
            " 11  I11     190 non-null    float64\n",
            " 12  I12     43 non-null     float64\n",
            " 13  I13     165 non-null    float64\n",
            " 14  C1      200 non-null    object \n",
            " 15  C2      200 non-null    object \n",
            " 16  C3      191 non-null    object \n",
            " 17  C4      191 non-null    object \n",
            " 18  C5      200 non-null    object \n",
            " 19  C6      168 non-null    object \n",
            " 20  C7      200 non-null    object \n",
            " 21  C8      200 non-null    object \n",
            " 22  C9      200 non-null    object \n",
            " 23  C10     200 non-null    object \n",
            " 24  C11     200 non-null    object \n",
            " 25  C12     191 non-null    object \n",
            " 26  C13     200 non-null    object \n",
            " 27  C14     200 non-null    object \n",
            " 28  C15     200 non-null    object \n",
            " 29  C16     191 non-null    object \n",
            " 30  C17     200 non-null    object \n",
            " 31  C18     200 non-null    object \n",
            " 32  C19     118 non-null    object \n",
            " 33  C20     118 non-null    object \n",
            " 34  C21     191 non-null    object \n",
            " 35  C22     41 non-null     object \n",
            " 36  C23     200 non-null    object \n",
            " 37  C24     191 non-null    object \n",
            " 38  C25     118 non-null    object \n",
            " 39  C26     118 non-null    object \n",
            "dtypes: float64(12), int64(2), object(26)\n",
            "memory usage: 62.6+ KB\n"
          ]
        },
        {
          "output_type": "execute_result",
          "data": {
            "text/plain": [
              "(   label  I1  I2     I3    I4       I5     I6   I7    I8     I9  ...  \\\n",
              " 0      0 NaN   3  260.0   NaN  17668.0    NaN  NaN  33.0    NaN  ...   \n",
              " 1      0 NaN  -1   19.0  35.0  30251.0  247.0  1.0  35.0  160.0  ...   \n",
              " \n",
              "         C17       C18  C19  C20       C21  C22       C23       C24  C25  C26  \n",
              " 0  e5ba7672  87c6f83c  NaN  NaN  0429f84b  NaN  3a171ecb  c0d61a5c  NaN  NaN  \n",
              " 1  d4bb7bd8  6fc84bfb  NaN  NaN  5155d8a3  NaN  be7c41b4  ded4aac9  NaN  NaN  \n",
              " \n",
              " [2 rows x 40 columns],\n",
              " None)"
            ]
          },
          "metadata": {},
          "execution_count": 116
        }
      ]
    },
    {
      "cell_type": "code",
      "source": [
        "sparse_features = ['C' + str(i) for i in range(1, 27)]\n",
        "dense_features = ['I' + str(i) for i in range(1, 14)]\n",
        "\n",
        "sparse_features, dense_features, data.columns"
      ],
      "metadata": {
        "colab": {
          "base_uri": "https://localhost:8080/"
        },
        "id": "xLsNUXnws_sZ",
        "outputId": "7d6b308b-9cd3-48c2-ebf9-b82eeb4810a5"
      },
      "execution_count": 117,
      "outputs": [
        {
          "output_type": "execute_result",
          "data": {
            "text/plain": [
              "(['C1',\n",
              "  'C2',\n",
              "  'C3',\n",
              "  'C4',\n",
              "  'C5',\n",
              "  'C6',\n",
              "  'C7',\n",
              "  'C8',\n",
              "  'C9',\n",
              "  'C10',\n",
              "  'C11',\n",
              "  'C12',\n",
              "  'C13',\n",
              "  'C14',\n",
              "  'C15',\n",
              "  'C16',\n",
              "  'C17',\n",
              "  'C18',\n",
              "  'C19',\n",
              "  'C20',\n",
              "  'C21',\n",
              "  'C22',\n",
              "  'C23',\n",
              "  'C24',\n",
              "  'C25',\n",
              "  'C26'],\n",
              " ['I1',\n",
              "  'I2',\n",
              "  'I3',\n",
              "  'I4',\n",
              "  'I5',\n",
              "  'I6',\n",
              "  'I7',\n",
              "  'I8',\n",
              "  'I9',\n",
              "  'I10',\n",
              "  'I11',\n",
              "  'I12',\n",
              "  'I13'],\n",
              " Index(['label', 'I1', 'I2', 'I3', 'I4', 'I5', 'I6', 'I7', 'I8', 'I9', 'I10',\n",
              "        'I11', 'I12', 'I13', 'C1', 'C2', 'C3', 'C4', 'C5', 'C6', 'C7', 'C8',\n",
              "        'C9', 'C10', 'C11', 'C12', 'C13', 'C14', 'C15', 'C16', 'C17', 'C18',\n",
              "        'C19', 'C20', 'C21', 'C22', 'C23', 'C24', 'C25', 'C26'],\n",
              "       dtype='object'))"
            ]
          },
          "metadata": {},
          "execution_count": 117
        }
      ]
    },
    {
      "cell_type": "code",
      "source": [
        "data[sparse_features] = data[sparse_features].fillna('-1', )\n",
        "data[dense_features] = data[dense_features].fillna(0, )\n",
        "data.head(2)"
      ],
      "metadata": {
        "colab": {
          "base_uri": "https://localhost:8080/",
          "height": 161
        },
        "id": "9Tge0z50tB5s",
        "outputId": "1794cd94-a365-4a36-9a6e-ddf99aab542c"
      },
      "execution_count": 118,
      "outputs": [
        {
          "output_type": "execute_result",
          "data": {
            "text/plain": [
              "   label   I1  I2     I3    I4       I5     I6   I7    I8     I9  ...  \\\n",
              "0      0  0.0   3  260.0   0.0  17668.0    0.0  0.0  33.0    0.0  ...   \n",
              "1      0  0.0  -1   19.0  35.0  30251.0  247.0  1.0  35.0  160.0  ...   \n",
              "\n",
              "        C17       C18  C19  C20       C21 C22       C23       C24 C25 C26  \n",
              "0  e5ba7672  87c6f83c   -1   -1  0429f84b  -1  3a171ecb  c0d61a5c  -1  -1  \n",
              "1  d4bb7bd8  6fc84bfb   -1   -1  5155d8a3  -1  be7c41b4  ded4aac9  -1  -1  \n",
              "\n",
              "[2 rows x 40 columns]"
            ],
            "text/html": [
              "\n",
              "  <div id=\"df-6c1a1515-2af1-48c5-a4be-fcc4b55b8eae\" class=\"colab-df-container\">\n",
              "    <div>\n",
              "<style scoped>\n",
              "    .dataframe tbody tr th:only-of-type {\n",
              "        vertical-align: middle;\n",
              "    }\n",
              "\n",
              "    .dataframe tbody tr th {\n",
              "        vertical-align: top;\n",
              "    }\n",
              "\n",
              "    .dataframe thead th {\n",
              "        text-align: right;\n",
              "    }\n",
              "</style>\n",
              "<table border=\"1\" class=\"dataframe\">\n",
              "  <thead>\n",
              "    <tr style=\"text-align: right;\">\n",
              "      <th></th>\n",
              "      <th>label</th>\n",
              "      <th>I1</th>\n",
              "      <th>I2</th>\n",
              "      <th>I3</th>\n",
              "      <th>I4</th>\n",
              "      <th>I5</th>\n",
              "      <th>I6</th>\n",
              "      <th>I7</th>\n",
              "      <th>I8</th>\n",
              "      <th>I9</th>\n",
              "      <th>...</th>\n",
              "      <th>C17</th>\n",
              "      <th>C18</th>\n",
              "      <th>C19</th>\n",
              "      <th>C20</th>\n",
              "      <th>C21</th>\n",
              "      <th>C22</th>\n",
              "      <th>C23</th>\n",
              "      <th>C24</th>\n",
              "      <th>C25</th>\n",
              "      <th>C26</th>\n",
              "    </tr>\n",
              "  </thead>\n",
              "  <tbody>\n",
              "    <tr>\n",
              "      <th>0</th>\n",
              "      <td>0</td>\n",
              "      <td>0.0</td>\n",
              "      <td>3</td>\n",
              "      <td>260.0</td>\n",
              "      <td>0.0</td>\n",
              "      <td>17668.0</td>\n",
              "      <td>0.0</td>\n",
              "      <td>0.0</td>\n",
              "      <td>33.0</td>\n",
              "      <td>0.0</td>\n",
              "      <td>...</td>\n",
              "      <td>e5ba7672</td>\n",
              "      <td>87c6f83c</td>\n",
              "      <td>-1</td>\n",
              "      <td>-1</td>\n",
              "      <td>0429f84b</td>\n",
              "      <td>-1</td>\n",
              "      <td>3a171ecb</td>\n",
              "      <td>c0d61a5c</td>\n",
              "      <td>-1</td>\n",
              "      <td>-1</td>\n",
              "    </tr>\n",
              "    <tr>\n",
              "      <th>1</th>\n",
              "      <td>0</td>\n",
              "      <td>0.0</td>\n",
              "      <td>-1</td>\n",
              "      <td>19.0</td>\n",
              "      <td>35.0</td>\n",
              "      <td>30251.0</td>\n",
              "      <td>247.0</td>\n",
              "      <td>1.0</td>\n",
              "      <td>35.0</td>\n",
              "      <td>160.0</td>\n",
              "      <td>...</td>\n",
              "      <td>d4bb7bd8</td>\n",
              "      <td>6fc84bfb</td>\n",
              "      <td>-1</td>\n",
              "      <td>-1</td>\n",
              "      <td>5155d8a3</td>\n",
              "      <td>-1</td>\n",
              "      <td>be7c41b4</td>\n",
              "      <td>ded4aac9</td>\n",
              "      <td>-1</td>\n",
              "      <td>-1</td>\n",
              "    </tr>\n",
              "  </tbody>\n",
              "</table>\n",
              "<p>2 rows × 40 columns</p>\n",
              "</div>\n",
              "    <div class=\"colab-df-buttons\">\n",
              "\n",
              "  <div class=\"colab-df-container\">\n",
              "    <button class=\"colab-df-convert\" onclick=\"convertToInteractive('df-6c1a1515-2af1-48c5-a4be-fcc4b55b8eae')\"\n",
              "            title=\"Convert this dataframe to an interactive table.\"\n",
              "            style=\"display:none;\">\n",
              "\n",
              "  <svg xmlns=\"http://www.w3.org/2000/svg\" height=\"24px\" viewBox=\"0 -960 960 960\">\n",
              "    <path d=\"M120-120v-720h720v720H120Zm60-500h600v-160H180v160Zm220 220h160v-160H400v160Zm0 220h160v-160H400v160ZM180-400h160v-160H180v160Zm440 0h160v-160H620v160ZM180-180h160v-160H180v160Zm440 0h160v-160H620v160Z\"/>\n",
              "  </svg>\n",
              "    </button>\n",
              "\n",
              "  <style>\n",
              "    .colab-df-container {\n",
              "      display:flex;\n",
              "      gap: 12px;\n",
              "    }\n",
              "\n",
              "    .colab-df-convert {\n",
              "      background-color: #E8F0FE;\n",
              "      border: none;\n",
              "      border-radius: 50%;\n",
              "      cursor: pointer;\n",
              "      display: none;\n",
              "      fill: #1967D2;\n",
              "      height: 32px;\n",
              "      padding: 0 0 0 0;\n",
              "      width: 32px;\n",
              "    }\n",
              "\n",
              "    .colab-df-convert:hover {\n",
              "      background-color: #E2EBFA;\n",
              "      box-shadow: 0px 1px 2px rgba(60, 64, 67, 0.3), 0px 1px 3px 1px rgba(60, 64, 67, 0.15);\n",
              "      fill: #174EA6;\n",
              "    }\n",
              "\n",
              "    .colab-df-buttons div {\n",
              "      margin-bottom: 4px;\n",
              "    }\n",
              "\n",
              "    [theme=dark] .colab-df-convert {\n",
              "      background-color: #3B4455;\n",
              "      fill: #D2E3FC;\n",
              "    }\n",
              "\n",
              "    [theme=dark] .colab-df-convert:hover {\n",
              "      background-color: #434B5C;\n",
              "      box-shadow: 0px 1px 3px 1px rgba(0, 0, 0, 0.15);\n",
              "      filter: drop-shadow(0px 1px 2px rgba(0, 0, 0, 0.3));\n",
              "      fill: #FFFFFF;\n",
              "    }\n",
              "  </style>\n",
              "\n",
              "    <script>\n",
              "      const buttonEl =\n",
              "        document.querySelector('#df-6c1a1515-2af1-48c5-a4be-fcc4b55b8eae button.colab-df-convert');\n",
              "      buttonEl.style.display =\n",
              "        google.colab.kernel.accessAllowed ? 'block' : 'none';\n",
              "\n",
              "      async function convertToInteractive(key) {\n",
              "        const element = document.querySelector('#df-6c1a1515-2af1-48c5-a4be-fcc4b55b8eae');\n",
              "        const dataTable =\n",
              "          await google.colab.kernel.invokeFunction('convertToInteractive',\n",
              "                                                    [key], {});\n",
              "        if (!dataTable) return;\n",
              "\n",
              "        const docLinkHtml = 'Like what you see? Visit the ' +\n",
              "          '<a target=\"_blank\" href=https://colab.research.google.com/notebooks/data_table.ipynb>data table notebook</a>'\n",
              "          + ' to learn more about interactive tables.';\n",
              "        element.innerHTML = '';\n",
              "        dataTable['output_type'] = 'display_data';\n",
              "        await google.colab.output.renderOutput(dataTable, element);\n",
              "        const docLink = document.createElement('div');\n",
              "        docLink.innerHTML = docLinkHtml;\n",
              "        element.appendChild(docLink);\n",
              "      }\n",
              "    </script>\n",
              "  </div>\n",
              "\n",
              "\n",
              "<div id=\"df-3f0faac9-5363-4288-9053-4c8ed33e6d69\">\n",
              "  <button class=\"colab-df-quickchart\" onclick=\"quickchart('df-3f0faac9-5363-4288-9053-4c8ed33e6d69')\"\n",
              "            title=\"Suggest charts\"\n",
              "            style=\"display:none;\">\n",
              "\n",
              "<svg xmlns=\"http://www.w3.org/2000/svg\" height=\"24px\"viewBox=\"0 0 24 24\"\n",
              "     width=\"24px\">\n",
              "    <g>\n",
              "        <path d=\"M19 3H5c-1.1 0-2 .9-2 2v14c0 1.1.9 2 2 2h14c1.1 0 2-.9 2-2V5c0-1.1-.9-2-2-2zM9 17H7v-7h2v7zm4 0h-2V7h2v10zm4 0h-2v-4h2v4z\"/>\n",
              "    </g>\n",
              "</svg>\n",
              "  </button>\n",
              "\n",
              "<style>\n",
              "  .colab-df-quickchart {\n",
              "      --bg-color: #E8F0FE;\n",
              "      --fill-color: #1967D2;\n",
              "      --hover-bg-color: #E2EBFA;\n",
              "      --hover-fill-color: #174EA6;\n",
              "      --disabled-fill-color: #AAA;\n",
              "      --disabled-bg-color: #DDD;\n",
              "  }\n",
              "\n",
              "  [theme=dark] .colab-df-quickchart {\n",
              "      --bg-color: #3B4455;\n",
              "      --fill-color: #D2E3FC;\n",
              "      --hover-bg-color: #434B5C;\n",
              "      --hover-fill-color: #FFFFFF;\n",
              "      --disabled-bg-color: #3B4455;\n",
              "      --disabled-fill-color: #666;\n",
              "  }\n",
              "\n",
              "  .colab-df-quickchart {\n",
              "    background-color: var(--bg-color);\n",
              "    border: none;\n",
              "    border-radius: 50%;\n",
              "    cursor: pointer;\n",
              "    display: none;\n",
              "    fill: var(--fill-color);\n",
              "    height: 32px;\n",
              "    padding: 0;\n",
              "    width: 32px;\n",
              "  }\n",
              "\n",
              "  .colab-df-quickchart:hover {\n",
              "    background-color: var(--hover-bg-color);\n",
              "    box-shadow: 0 1px 2px rgba(60, 64, 67, 0.3), 0 1px 3px 1px rgba(60, 64, 67, 0.15);\n",
              "    fill: var(--button-hover-fill-color);\n",
              "  }\n",
              "\n",
              "  .colab-df-quickchart-complete:disabled,\n",
              "  .colab-df-quickchart-complete:disabled:hover {\n",
              "    background-color: var(--disabled-bg-color);\n",
              "    fill: var(--disabled-fill-color);\n",
              "    box-shadow: none;\n",
              "  }\n",
              "\n",
              "  .colab-df-spinner {\n",
              "    border: 2px solid var(--fill-color);\n",
              "    border-color: transparent;\n",
              "    border-bottom-color: var(--fill-color);\n",
              "    animation:\n",
              "      spin 1s steps(1) infinite;\n",
              "  }\n",
              "\n",
              "  @keyframes spin {\n",
              "    0% {\n",
              "      border-color: transparent;\n",
              "      border-bottom-color: var(--fill-color);\n",
              "      border-left-color: var(--fill-color);\n",
              "    }\n",
              "    20% {\n",
              "      border-color: transparent;\n",
              "      border-left-color: var(--fill-color);\n",
              "      border-top-color: var(--fill-color);\n",
              "    }\n",
              "    30% {\n",
              "      border-color: transparent;\n",
              "      border-left-color: var(--fill-color);\n",
              "      border-top-color: var(--fill-color);\n",
              "      border-right-color: var(--fill-color);\n",
              "    }\n",
              "    40% {\n",
              "      border-color: transparent;\n",
              "      border-right-color: var(--fill-color);\n",
              "      border-top-color: var(--fill-color);\n",
              "    }\n",
              "    60% {\n",
              "      border-color: transparent;\n",
              "      border-right-color: var(--fill-color);\n",
              "    }\n",
              "    80% {\n",
              "      border-color: transparent;\n",
              "      border-right-color: var(--fill-color);\n",
              "      border-bottom-color: var(--fill-color);\n",
              "    }\n",
              "    90% {\n",
              "      border-color: transparent;\n",
              "      border-bottom-color: var(--fill-color);\n",
              "    }\n",
              "  }\n",
              "</style>\n",
              "\n",
              "  <script>\n",
              "    async function quickchart(key) {\n",
              "      const quickchartButtonEl =\n",
              "        document.querySelector('#' + key + ' button');\n",
              "      quickchartButtonEl.disabled = true;  // To prevent multiple clicks.\n",
              "      quickchartButtonEl.classList.add('colab-df-spinner');\n",
              "      try {\n",
              "        const charts = await google.colab.kernel.invokeFunction(\n",
              "            'suggestCharts', [key], {});\n",
              "      } catch (error) {\n",
              "        console.error('Error during call to suggestCharts:', error);\n",
              "      }\n",
              "      quickchartButtonEl.classList.remove('colab-df-spinner');\n",
              "      quickchartButtonEl.classList.add('colab-df-quickchart-complete');\n",
              "    }\n",
              "    (() => {\n",
              "      let quickchartButtonEl =\n",
              "        document.querySelector('#df-3f0faac9-5363-4288-9053-4c8ed33e6d69 button');\n",
              "      quickchartButtonEl.style.display =\n",
              "        google.colab.kernel.accessAllowed ? 'block' : 'none';\n",
              "    })();\n",
              "  </script>\n",
              "</div>\n",
              "    </div>\n",
              "  </div>\n"
            ],
            "application/vnd.google.colaboratory.intrinsic+json": {
              "type": "dataframe",
              "variable_name": "data"
            }
          },
          "metadata": {},
          "execution_count": 118
        }
      ]
    },
    {
      "cell_type": "code",
      "source": [
        "target = ['label']"
      ],
      "metadata": {
        "id": "xcO7EuQJtB3d"
      },
      "execution_count": 119,
      "outputs": []
    },
    {
      "cell_type": "code",
      "source": [
        "# giving each element as unique ID with LabelEncoder\n",
        "# just a demo\n",
        "data_demo = data\n",
        "for feat in sparse_features:\n",
        "    lbe = LabelEncoder()\n",
        "    print(data_demo[feat].unique(), data_demo[feat].nunique())\n",
        "    data_demo[feat] = lbe.fit_transform(data_demo[feat])\n",
        "    print(data_demo[feat].unique(), data_demo[feat].nunique())\n",
        "    break"
      ],
      "metadata": {
        "colab": {
          "base_uri": "https://localhost:8080/"
        },
        "id": "7MBhryB3tBzU",
        "outputId": "1981e2da-60f2-48d6-e488-b1d45b7518c1"
      },
      "execution_count": 120,
      "outputs": [
        {
          "output_type": "stream",
          "name": "stdout",
          "text": [
            "['05db9164' '68fd1e64' '8cf07265' '5bfa8ab5' '5a9ed9b0' '9a89b36c'\n",
            " '2d4ea12b' '39af2607' '241546e0' '09ca0b81' '87552397' 'be589b51'\n",
            " 'f434fac1' 'f473b8dc' '75ac2fe6' '7e5c2ff4' 'be30ca83' '17f69355'\n",
            " 'ae82ea21' '98237733' 'fc9c62bb' 'de4dac42' '3b65d647' '52f1e825'\n",
            " '0e78bd46' '87773c45' 'da4eff0f'] 27\n",
            "[ 0 11 16 10  9 18  5  6  4  1 14 21 24 25 12 13 20  3 19 17 26 23  7  8\n",
            "  2 15 22] 27\n"
          ]
        }
      ]
    },
    {
      "cell_type": "code",
      "source": [
        "# for all the data\n",
        "num_unique_arr = []\n",
        "for feat in sparse_features:\n",
        "    temp = []\n",
        "    lbe = LabelEncoder()\n",
        "    temp.append(data[feat].nunique())\n",
        "    data[feat] = lbe.fit_transform(data_demo[feat])\n",
        "    temp.append(data[feat].nunique())\n",
        "    num_unique_arr.append(temp)"
      ],
      "metadata": {
        "id": "CqxySQFPtBxU"
      },
      "execution_count": 121,
      "outputs": []
    },
    {
      "cell_type": "markdown",
      "source": [
        "## Generating Feature Columns"
      ],
      "metadata": {
        "id": "EL76jZLhxmfh"
      }
    },
    {
      "cell_type": "code",
      "source": [
        "# transforming features to dense vectors by embedding techniques\n",
        "fix_length_feature_columns = [deepctr.feature_column.SparseFeat(feat, vocabulary_size=data[feat].max() + 1,embedding_dim=4)\n",
        "                       for i,feat in enumerate(sparse_features)] + [deepctr.feature_column.DenseFeat(feat, 1,)\n",
        "                      for feat in dense_features]"
      ],
      "metadata": {
        "id": "CllBK9dytBvE"
      },
      "execution_count": 122,
      "outputs": []
    },
    {
      "cell_type": "code",
      "source": [
        "fix_length_feature_columns[:2]"
      ],
      "metadata": {
        "colab": {
          "base_uri": "https://localhost:8080/"
        },
        "id": "uXRTZViJtKEm",
        "outputId": "37e6d346-e6f3-4ca0-a3ef-b3ffa85771af"
      },
      "execution_count": 123,
      "outputs": [
        {
          "output_type": "execute_result",
          "data": {
            "text/plain": [
              "[SparseFeat(name='C1', vocabulary_size=27, embedding_dim=4, use_hash=False, vocabulary_path=None, dtype='int32', embeddings_initializer=<tensorflow.python.keras.initializers.initializers_v1.RandomNormal object at 0x7f537243c700>, embedding_name='C1', group_name='default_group', trainable=True),\n",
              " SparseFeat(name='C2', vocabulary_size=92, embedding_dim=4, use_hash=False, vocabulary_path=None, dtype='int32', embeddings_initializer=<tensorflow.python.keras.initializers.initializers_v1.RandomNormal object at 0x7f5383df1510>, embedding_name='C2', group_name='default_group', trainable=True)]"
            ]
          },
          "metadata": {},
          "execution_count": 123
        }
      ]
    },
    {
      "cell_type": "code",
      "source": [],
      "metadata": {
        "id": "3Q-TJwvIyMzR"
      },
      "execution_count": 123,
      "outputs": []
    },
    {
      "cell_type": "code",
      "source": [
        "dnn_feature_columns = fix_length_feature_columns\n",
        "linear_feature_columns = fix_length_feature_columns\n",
        "\n",
        "feature_names = get_feature_names(linear_feature_columns + dnn_feature_columns)\n",
        "feature_names\n",
        "# is same as get_feature_names(fix_length_feature_columns)"
      ],
      "metadata": {
        "colab": {
          "base_uri": "https://localhost:8080/"
        },
        "id": "maEnhIYmtL33",
        "outputId": "0bc7f8c3-d88e-4f3f-c6ba-674209b351e4"
      },
      "execution_count": 124,
      "outputs": [
        {
          "output_type": "execute_result",
          "data": {
            "text/plain": [
              "['C1',\n",
              " 'C2',\n",
              " 'C3',\n",
              " 'C4',\n",
              " 'C5',\n",
              " 'C6',\n",
              " 'C7',\n",
              " 'C8',\n",
              " 'C9',\n",
              " 'C10',\n",
              " 'C11',\n",
              " 'C12',\n",
              " 'C13',\n",
              " 'C14',\n",
              " 'C15',\n",
              " 'C16',\n",
              " 'C17',\n",
              " 'C18',\n",
              " 'C19',\n",
              " 'C20',\n",
              " 'C21',\n",
              " 'C22',\n",
              " 'C23',\n",
              " 'C24',\n",
              " 'C25',\n",
              " 'C26',\n",
              " 'I1',\n",
              " 'I2',\n",
              " 'I3',\n",
              " 'I4',\n",
              " 'I5',\n",
              " 'I6',\n",
              " 'I7',\n",
              " 'I8',\n",
              " 'I9',\n",
              " 'I10',\n",
              " 'I11',\n",
              " 'I12',\n",
              " 'I13']"
            ]
          },
          "metadata": {},
          "execution_count": 124
        }
      ]
    },
    {
      "cell_type": "markdown",
      "source": [
        "## Generating training samples and training the model"
      ],
      "metadata": {
        "id": "QJC1G91FybLa"
      }
    },
    {
      "cell_type": "code",
      "source": [
        "train, test = train_test_split(data, test_size=0.2)\n",
        "train.columns, train.shape"
      ],
      "metadata": {
        "colab": {
          "base_uri": "https://localhost:8080/"
        },
        "id": "xlTHjH7RzK0O",
        "outputId": "9d1806bd-e6a8-4362-f041-6dd00322fb69"
      },
      "execution_count": 125,
      "outputs": [
        {
          "output_type": "execute_result",
          "data": {
            "text/plain": [
              "(Index(['label', 'I1', 'I2', 'I3', 'I4', 'I5', 'I6', 'I7', 'I8', 'I9', 'I10',\n",
              "        'I11', 'I12', 'I13', 'C1', 'C2', 'C3', 'C4', 'C5', 'C6', 'C7', 'C8',\n",
              "        'C9', 'C10', 'C11', 'C12', 'C13', 'C14', 'C15', 'C16', 'C17', 'C18',\n",
              "        'C19', 'C20', 'C21', 'C22', 'C23', 'C24', 'C25', 'C26'],\n",
              "       dtype='object'),\n",
              " (160, 40))"
            ]
          },
          "metadata": {},
          "execution_count": 125
        }
      ]
    },
    {
      "cell_type": "code",
      "source": [
        "train['C10']"
      ],
      "metadata": {
        "colab": {
          "base_uri": "https://localhost:8080/"
        },
        "id": "vDcsByLqzng-",
        "outputId": "892436d5-5a97-4e97-c15c-d7b51194843e"
      },
      "execution_count": 126,
      "outputs": [
        {
          "output_type": "execute_result",
          "data": {
            "text/plain": [
              "134    81\n",
              "40     30\n",
              "195    11\n",
              "54     30\n",
              "113    30\n",
              "       ..\n",
              "198    96\n",
              "41     30\n",
              "169    58\n",
              "185    30\n",
              "147    30\n",
              "Name: C10, Length: 160, dtype: int64"
            ]
          },
          "metadata": {},
          "execution_count": 126
        }
      ]
    },
    {
      "cell_type": "code",
      "source": [
        "from itertools import islice\n",
        "\n",
        "def take(iterables, n):\n",
        "  return list(islice(iterables, n))"
      ],
      "metadata": {
        "id": "N6YqD02g0A2N"
      },
      "execution_count": 127,
      "outputs": []
    },
    {
      "cell_type": "code",
      "source": [
        "train_model_input = {name:train[name].values for name in feature_names}\n",
        "test_model_input = {name:test[name].values for name in feature_names}\n",
        "take(train_model_input.items(), 1), take(test_model_input.items(), 1)"
      ],
      "metadata": {
        "colab": {
          "base_uri": "https://localhost:8080/"
        },
        "id": "DtY0Xjzizrm9",
        "outputId": "4794d898-905a-4e99-9fbd-151f07fe0db6"
      },
      "execution_count": 128,
      "outputs": [
        {
          "output_type": "execute_result",
          "data": {
            "text/plain": [
              "([('C1',\n",
              "   array([18, 24,  0, 21,  0, 16,  0,  0,  0,  9, 10,  0,  1,  9,  0, 16,  0,\n",
              "          11,  6,  0,  6,  0, 21,  9,  9,  0, 21,  0, 21, 11,  0,  0, 15,  0,\n",
              "          11, 11, 18,  0,  0, 17,  0,  0, 10,  0, 11,  9,  0,  0, 11, 14, 11,\n",
              "           2, 11,  0, 11, 11, 16,  0, 16, 11,  0,  0,  0,  0,  0,  0, 19,  9,\n",
              "           0,  0, 25, 11, 11, 11, 20, 11,  1,  0,  7, 16,  0, 11,  0, 11,  0,\n",
              "          11,  0,  5,  0,  0, 16,  0, 16,  3,  0,  0, 21,  0, 16, 18,  0,  6,\n",
              "           0,  9,  6,  0, 11,  0,  0, 19,  0, 16, 11,  0, 12, 11,  0, 26,  0,\n",
              "          16,  0, 16,  6,  0, 16,  3, 16,  9,  9, 21,  0,  0,  0,  0, 11, 10,\n",
              "           0,  0, 11,  0, 21,  0,  0,  0, 11,  0,  0, 10,  0,  0,  0,  4,  0,\n",
              "          25, 11,  0, 11, 16,  9, 11]))],\n",
              " [('C1',\n",
              "   array([22,  0, 16, 18, 11,  0, 23,  0,  7, 10,  0,  8, 14, 11,  0,  0, 11,\n",
              "          11, 11, 13,  0, 11, 11,  0,  0,  0, 21,  0,  9,  9, 16,  6,  0, 11,\n",
              "           0, 11,  0,  0,  0,  9]))])"
            ]
          },
          "metadata": {},
          "execution_count": 128
        }
      ]
    },
    {
      "cell_type": "code",
      "source": [
        "model = DeepFM(linear_feature_columns,dnn_feature_columns,task='binary')\n",
        "model"
      ],
      "metadata": {
        "colab": {
          "base_uri": "https://localhost:8080/"
        },
        "id": "2AoTyIDL0rKx",
        "outputId": "653555cf-2f39-4ff5-ade1-90b31902b7ec"
      },
      "execution_count": 141,
      "outputs": [
        {
          "output_type": "execute_result",
          "data": {
            "text/plain": [
              "<tensorflow.python.keras.engine.functional.Functional at 0x7f536cb50fa0>"
            ]
          },
          "metadata": {},
          "execution_count": 141
        }
      ]
    },
    {
      "cell_type": "code",
      "source": [
        "model.compile(\"adam\", \"binary_crossentropy\",\n",
        "              metrics=['binary_crossentropy'], )"
      ],
      "metadata": {
        "id": "adip_pn40ub0"
      },
      "execution_count": 142,
      "outputs": []
    },
    {
      "cell_type": "code",
      "source": [
        "history = model.fit(train_model_input, train[target].values,\n",
        "                    batch_size=128, epochs=20, verbose=1, validation_split=0.2, )\n",
        "history"
      ],
      "metadata": {
        "colab": {
          "base_uri": "https://localhost:8080/"
        },
        "id": "f2_Z9cs90yUx",
        "outputId": "9f822bae-a0d0-4dd6-f7a7-6c2ae09c5dcb"
      },
      "execution_count": 143,
      "outputs": [
        {
          "output_type": "stream",
          "name": "stdout",
          "text": [
            "Epoch 1/20\n",
            "1/1 [==============================] - 8s 8s/step - loss: 10.5850 - binary_crossentropy: 10.5850 - val_loss: 10.9802 - val_binary_crossentropy: 10.9802\n",
            "Epoch 2/20\n",
            "1/1 [==============================] - 0s 162ms/step - loss: 10.1739 - binary_crossentropy: 10.1739 - val_loss: 10.6180 - val_binary_crossentropy: 10.6180\n",
            "Epoch 3/20\n",
            "1/1 [==============================] - 0s 157ms/step - loss: 9.8252 - binary_crossentropy: 9.8252 - val_loss: 10.4500 - val_binary_crossentropy: 10.4500\n",
            "Epoch 4/20\n",
            "1/1 [==============================] - 0s 76ms/step - loss: 9.7465 - binary_crossentropy: 9.7465 - val_loss: 8.4643 - val_binary_crossentropy: 8.4643\n",
            "Epoch 5/20\n",
            "1/1 [==============================] - 0s 78ms/step - loss: 8.9306 - binary_crossentropy: 8.9305 - val_loss: 3.0540 - val_binary_crossentropy: 3.0540\n",
            "Epoch 6/20\n",
            "1/1 [==============================] - 0s 78ms/step - loss: 3.6596 - binary_crossentropy: 3.6596 - val_loss: 3.0144 - val_binary_crossentropy: 3.0144\n",
            "Epoch 7/20\n",
            "1/1 [==============================] - 0s 83ms/step - loss: 3.6709 - binary_crossentropy: 3.6709 - val_loss: 3.2126 - val_binary_crossentropy: 3.2126\n",
            "Epoch 8/20\n",
            "1/1 [==============================] - 0s 80ms/step - loss: 3.6590 - binary_crossentropy: 3.6590 - val_loss: 3.4431 - val_binary_crossentropy: 3.4430\n",
            "Epoch 9/20\n",
            "1/1 [==============================] - 0s 85ms/step - loss: 3.6639 - binary_crossentropy: 3.6639 - val_loss: 3.4610 - val_binary_crossentropy: 3.4610\n",
            "Epoch 10/20\n",
            "1/1 [==============================] - 0s 80ms/step - loss: 3.6648 - binary_crossentropy: 3.6648 - val_loss: 3.4612 - val_binary_crossentropy: 3.4612\n",
            "Epoch 11/20\n",
            "1/1 [==============================] - 0s 103ms/step - loss: 3.6558 - binary_crossentropy: 3.6558 - val_loss: 3.4616 - val_binary_crossentropy: 3.4616\n",
            "Epoch 12/20\n",
            "1/1 [==============================] - 0s 85ms/step - loss: 3.6311 - binary_crossentropy: 3.6311 - val_loss: 3.4616 - val_binary_crossentropy: 3.4616\n",
            "Epoch 13/20\n",
            "1/1 [==============================] - 0s 80ms/step - loss: 3.5924 - binary_crossentropy: 3.5924 - val_loss: 3.4613 - val_binary_crossentropy: 3.4613\n",
            "Epoch 14/20\n",
            "1/1 [==============================] - 0s 94ms/step - loss: 3.5503 - binary_crossentropy: 3.5503 - val_loss: 3.4614 - val_binary_crossentropy: 3.4614\n",
            "Epoch 15/20\n",
            "1/1 [==============================] - 0s 100ms/step - loss: 3.5248 - binary_crossentropy: 3.5248 - val_loss: 3.4618 - val_binary_crossentropy: 3.4618\n",
            "Epoch 16/20\n",
            "1/1 [==============================] - 0s 89ms/step - loss: 3.5105 - binary_crossentropy: 3.5105 - val_loss: 3.4624 - val_binary_crossentropy: 3.4624\n",
            "Epoch 17/20\n",
            "1/1 [==============================] - 0s 84ms/step - loss: 3.5021 - binary_crossentropy: 3.5021 - val_loss: 3.4652 - val_binary_crossentropy: 3.4652\n",
            "Epoch 18/20\n",
            "1/1 [==============================] - 0s 92ms/step - loss: 3.4563 - binary_crossentropy: 3.4563 - val_loss: 3.4839 - val_binary_crossentropy: 3.4839\n",
            "Epoch 19/20\n",
            "1/1 [==============================] - 0s 96ms/step - loss: 3.3779 - binary_crossentropy: 3.3779 - val_loss: 3.5473 - val_binary_crossentropy: 3.5472\n",
            "Epoch 20/20\n",
            "1/1 [==============================] - 0s 99ms/step - loss: 3.1701 - binary_crossentropy: 3.1701 - val_loss: 3.6041 - val_binary_crossentropy: 3.6041\n"
          ]
        },
        {
          "output_type": "execute_result",
          "data": {
            "text/plain": [
              "<tensorflow.python.keras.callbacks.History at 0x7f536cb3a080>"
            ]
          },
          "metadata": {},
          "execution_count": 143
        }
      ]
    },
    {
      "cell_type": "code",
      "source": [
        "pred_ans = model.predict(test_model_input, batch_size=256)"
      ],
      "metadata": {
        "id": "EnfVcPqftMl1"
      },
      "execution_count": 144,
      "outputs": []
    },
    {
      "cell_type": "code",
      "source": [
        "pred_ans.shape, test[target].values.shape"
      ],
      "metadata": {
        "colab": {
          "base_uri": "https://localhost:8080/"
        },
        "id": "niuLJvhy09vL",
        "outputId": "478eec88-8c37-4e96-81a9-0d57de1b5226"
      },
      "execution_count": 145,
      "outputs": [
        {
          "output_type": "execute_result",
          "data": {
            "text/plain": [
              "((40, 1), (40, 1))"
            ]
          },
          "metadata": {},
          "execution_count": 145
        }
      ]
    },
    {
      "cell_type": "code",
      "source": [
        "history.history.keys()"
      ],
      "metadata": {
        "colab": {
          "base_uri": "https://localhost:8080/"
        },
        "id": "xIrtVZlgtOC4",
        "outputId": "8bad6a68-c0fb-4c55-f816-0dde81bcd5d0"
      },
      "execution_count": 146,
      "outputs": [
        {
          "output_type": "execute_result",
          "data": {
            "text/plain": [
              "dict_keys(['loss', 'binary_crossentropy', 'val_loss', 'val_binary_crossentropy'])"
            ]
          },
          "metadata": {},
          "execution_count": 146
        }
      ]
    },
    {
      "cell_type": "code",
      "source": [
        "import matplotlib.pyplot as plt\n",
        "\n",
        "plt.plot(history.history['val_loss'])"
      ],
      "metadata": {
        "colab": {
          "base_uri": "https://localhost:8080/",
          "height": 448
        },
        "id": "B0C52GPctZ9i",
        "outputId": "2a6b67ab-5625-46fd-9e48-eadc58ad822c"
      },
      "execution_count": 147,
      "outputs": [
        {
          "output_type": "execute_result",
          "data": {
            "text/plain": [
              "[<matplotlib.lines.Line2D at 0x7f5365bfb010>]"
            ]
          },
          "metadata": {},
          "execution_count": 147
        },
        {
          "output_type": "display_data",
          "data": {
            "text/plain": [
              "<Figure size 640x480 with 1 Axes>"
            ],
            "image/png": "[encoded data removed]"
          },
          "metadata": {}
        }
      ]
    },
    {
      "cell_type": "code",
      "source": [],
      "metadata": {
        "id": "oNsRvLXPthmD"
      },
      "execution_count": 135,
      "outputs": []
    },
    {
      "cell_type": "code",
      "source": [],
      "metadata": {
        "id": "sWqLeo-atbrO"
      },
      "execution_count": 135,
      "outputs": []
    },
    {
      "cell_type": "code",
      "source": [],
      "metadata": {
        "id": "Biz1FcCXtc7L"
      },
      "execution_count": 135,
      "outputs": []
    }
  ]
}